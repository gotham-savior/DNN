{
  "cells": [
    {
      "cell_type": "markdown",
      "metadata": {
        "id": "tZNYnUlGrJiY"
      },
      "source": [
        "## APM 598 - Intro to Deep Learning - Homework 1\n",
        "\n",
        "<pre>\n",
        "Team Members:\n",
        "Tharun P            -  1224915822  - tharunp@asu.com\n",
        "Sushrut Bhargav     -  1223566812  - sbharg11@asu.edu\n",
        "Sreekanth G         -  1222557427  - sgandava@asu.edu\n",
        "</pre>\n",
        "</br>"
      ]
    },
    {
      "cell_type": "code",
      "execution_count": null,
      "metadata": {
        "id": "wsoFosfVrJib"
      },
      "outputs": [],
      "source": [
        "import numpy as np\n",
        "import matplotlib.pyplot as plt\n",
        "from torchvision import datasets\n",
        "import matplotlib.pyplot as plt\n",
        "from torch.utils.data import DataLoader\n",
        "import torch\n",
        "from torch import nn\n",
        "from torchvision import transforms"
      ]
    },
    {
      "cell_type": "markdown",
      "metadata": {
        "id": "p24EEKOYrJic"
      },
      "source": [
        "############################################## \n",
        "\t\t## Exercise 1 (Python) ## \n",
        "##############################################"
      ]
    },
    {
      "cell_type": "code",
      "execution_count": null,
      "metadata": {
        "id": "f2zcKgYMrJic"
      },
      "outputs": [],
      "source": [
        "'''Exercise 1a, 1b, 1c'''\n",
        "filepath = 'data_HW1_ex1.csv'\n",
        "data = np.loadtxt(filepath, delimiter=',') \n",
        "x, y = data[:,0], data[:,1]\n",
        "x_train, y_train = data[0:int(len(data)*0.8), 0], data[0:int(len(data)*0.8), 1]\n",
        "x_test, y_test = data[int(len(data)*0.8):, 0], data[int(len(data)*0.8):, 1]\n",
        "k = 12\n",
        "\n",
        "\n",
        "def loss(degree, x, y):\n",
        "    '''This function computes the loss'''\n",
        "    return (np.sum((np.polyval(np.polyfit(x, y, degree), x) - y)**2))/len(x)\n",
        "\n",
        "\n",
        "def ex1a():\n",
        "    losses = list()\n",
        "    for degree in range(0, k+1):\n",
        "        losses.append(loss(degree, x, y))\n",
        "    #plot loss against k (k = degree of polynomial)\n",
        "    plt.figure('Ex. 1a - Loss function vs Poly Degree')\n",
        "    plt.plot(range(0, k+1), losses, 'o-')\n",
        "    plt.xlabel('Degree K')\n",
        "    plt.ylabel('Loss')\n",
        "    plt.show()\n",
        "    \n",
        "def ex1bc():\n",
        "    train_error = list()\n",
        "    test_error = list()\n",
        "\n",
        "    for degree in range(0, k+1):\n",
        "        train_error.append(loss(degree, x_train, y_train))\n",
        "        poly_fit = np.poly1d(np.polyfit(x_train, y_train, degree))\n",
        "        predict = poly_fit(x_test)\n",
        "        test_error.append(np.sum((predict-y_test)**2))\n",
        "    print('Degree   TrainLoss   TestLoss')\n",
        "    for degree, (train_err, test_err) in enumerate(zip(train_error, test_error)):\n",
        "        print('%-9i%-13.2f%.2f'%(degree, train_err, test_err))\n",
        "    k_star = test_error.index(min(test_error))\n",
        "    print('\\nOrder k* = {} since it has the least test error\\n'.format(k_star))\n",
        "    coeffs = np.polyfit(x, y, k_star)\n",
        "    print('\\nCoeffs for k*(2): ', coeffs)\n",
        "\n",
        "    #display test vs train loss\n",
        "    fig = plt.figure('Ex. 1b - Test/Train Loss vs Poly Degree', figsize=(12,5))\n",
        "    ax1 = fig.add_subplot(1, 2, 1)\n",
        "    train_line, = ax1.plot(range(0, k+1), train_error, c='b')\n",
        "    test_line, = ax1.plot(range(0, k+1), test_error, c='r')\n",
        "    ax1.set(xlabel=\"Degree K\", ylabel=\"Loss\")\n",
        "    ax1.legend([train_line, test_line], [\"Train Loss\", \"Test Loss\"])\n",
        "\n",
        "    #display polyfit\n",
        "    ax2 = fig.add_subplot(1, 2, 2)\n",
        "    predict = np.poly1d(np.polyfit(x, y, k_star))\n",
        "    ax2.plot(x, y, 'bo')\n",
        "    x_sort = sorted(x)\n",
        "    p_fit, = ax2.plot(x_sort, predict(x_sort), 'r-')\n",
        "    ax2.set(xlabel=\"x\", ylabel=\"y\")\n",
        "    ax2.legend([p_fit], [\"K* = {}\".format(k_star)])\n",
        "    plt.show()\n",
        "     "
      ]
    },
    {
      "cell_type": "code",
      "execution_count": null,
      "metadata": {
        "colab": {
          "base_uri": "https://localhost:8080/",
          "height": 1000
        },
        "id": "nWyr6abmrJid",
        "outputId": "ad733e37-d2d0-4e4b-f02f-29410056903a"
      },
      "outputs": [
        {
          "output_type": "stream",
          "name": "stdout",
          "text": [
            "\n",
            "******* Exercise 1a ********\n",
            "\n"
          ]
        },
        {
          "output_type": "display_data",
          "data": {
            "text/plain": [
              "<Figure size 432x288 with 1 Axes>"
            ],
            "image/png": "[encoded data removed]"
          },
          "metadata": {
            "needs_background": "light"
          }
        },
        {
          "output_type": "stream",
          "name": "stdout",
          "text": [
            "\n",
            "******* Exercise 1b, 1c ********\n",
            "\n",
            "Degree   TrainLoss   TestLoss\n",
            "0        1.01         33.51\n",
            "1        0.19         4.45\n",
            "2        0.10         1.24\n",
            "3        0.10         1.40\n",
            "4        0.09         1.43\n",
            "5        0.09         1.51\n",
            "6        0.09         1.50\n",
            "7        0.09         1.38\n",
            "8        0.09         1.34\n",
            "9        0.09         1.34\n",
            "10       0.09         1.32\n",
            "11       0.09         10.07\n",
            "12       0.09         25.26\n",
            "\n",
            "Order k* = 2 since it has the least test error\n",
            "\n",
            "\n",
            "Coeffs for k*(2):  [ 0.39284984 -0.38975863  0.82121564]\n"
          ]
        },
        {
          "output_type": "display_data",
          "data": {
            "text/plain": [
              "<Figure size 864x360 with 2 Axes>"
            ],
            "image/png": "[encoded data removed]"
          },
          "metadata": {
            "needs_background": "light"
          }
        }
      ],
      "source": [
        "print('\\n******* Exercise 1a ********\\n')\n",
        "ex1a()\n",
        "print('\\n******* Exercise 1b, 1c ********\\n')\n",
        "ex1bc()\n"
      ]
    },
    {
      "cell_type": "markdown",
      "metadata": {
        "id": "7nWEBTegrJie"
      },
      "source": [
        "Guess for k* is 2, since we get the lowest test loss with k=2"
      ]
    },
    {
      "cell_type": "markdown",
      "metadata": {
        "id": "zi_-ipNDrJie"
      },
      "source": [
        "</br></br>\n",
        "############################################## \n",
        "    ## Exercise 2 (Python) ## \n",
        "##############################################\n",
        "</br></br>\n"
      ]
    },
    {
      "cell_type": "markdown",
      "metadata": {
        "id": "Ppv_Y_hirJif"
      },
      "source": [
        "We are given a loss function. To get the gradient of the loss function, we\n",
        "- differentiate the loss, with respext to a and b\n",
        "- we equate the first order differentials to zero\n",
        "- and we solve the two equations simultaneously to equations for get a and b\n",
        "- upon pugging in xi and yi values, we will be able to get a* and b*\n",
        "</br></br>\n",
        "_note: The derivations and equations are provided in the 2a.pdf / 2a.jpg files_"
      ]
    },
    {
      "cell_type": "markdown",
      "metadata": {
        "id": "n7RchYzdrJif"
      },
      "source": [
        "<img src='2a.jpg'>"
      ]
    },
    {
      "cell_type": "code",
      "execution_count": null,
      "metadata": {
        "id": "X9e7nwnXrJif"
      },
      "outputs": [],
      "source": [
        "'''Exercise 2a, 2b, 2c'''\n",
        "\n",
        "\n",
        "def loss(a, b, x_train, y_train):\n",
        "    '''loss function'''\n",
        "    n = len(x_train)\n",
        "    loss = 1/n * (np.sum(y_train - (a + b*x_train))**2)\n",
        "    print(loss)\n",
        "\n",
        "\n",
        "def calculate_minima(x_train, y_train):\n",
        "    '''calculating minima for 2a'''\n",
        "    #Upon differentiating the system of mse loss with respect to 2 variables a and b and\n",
        "    #equating the first order differential to 0, \n",
        "    #we get the following equations for a and b to find their minimum.\n",
        "    n = len(x_train)\n",
        "    b_star = (np.sum(x_train*y_train) - (1/n*(np.sum(x_train)*np.sum(y_train)))) / (np.sum((x_train**2)) - (1/n*(np.sum(x_train)**2)))\n",
        "    a_star = 1/n *(np.sum(y_train) - (b_star * np.sum(x_train)))\n",
        "    return np.array([a_star,b_star])\n",
        "\n",
        "\n",
        "\n",
        "def gradient_descent(x_train, y_train, a0, b0, learning_rate, optimal_numerical_ab):\n",
        "    '''gradient descent'''\n",
        "    iteration = 1\n",
        "    n = len(x_train)\n",
        "    old_ab = np.array([a0, b0])\n",
        "    a = old_ab[0]\n",
        "    b = old_ab[1]\n",
        "    gradient_a = 1/n * (np.sum(-2*(y_train - a - (b * x_train))))\n",
        "    gradient_b = 1/n * (np.sum(-2*((x_train*y_train) - (a*x_train) - (b*(x_train**2)))))\n",
        "    grad_ab = np.array([gradient_a,gradient_b])\n",
        "    new_ab = old_ab - (learning_rate*(grad_ab))\n",
        "    while((new_ab - old_ab).all() !=0):\n",
        "        iteration += 1\n",
        "        old_ab = new_ab\n",
        "        a = old_ab[0]\n",
        "        b = old_ab[1]\n",
        "        gradient_a = 1/n * (np.sum(-2*(y_train - a - (b * x_train))))\n",
        "        gradient_b = 1/n * (np.sum(-2*((x_train*y_train) - (a*x_train) - (b*(x_train**2)))))\n",
        "        grad_ab = np.array([gradient_a,gradient_b])\n",
        "        new_ab = old_ab - (learning_rate*(grad_ab))\n",
        "    return [iteration, new_ab]\n",
        "\n",
        "\n",
        "\n",
        "def momentum(x_train, y_train, gamma, a0, b0, learning_rate):\n",
        "    '''momentum'''\n",
        "    iteration = 1\n",
        "    n = len(x_train)\n",
        "    v_n = np.array([0.0,0.0])\n",
        "    old_ab = np.array([a0,b0])\n",
        "    a, b = old_ab[0], old_ab[1]\n",
        "    gradient_a = 1/n * (np.sum(-2*(y_train - a - (b * x_train))))\n",
        "    gradient_b = 1/n * (np.sum(-2*((x_train*y_train) - (a*x_train) - (b*(x_train**2)))))\n",
        "    grad_ab = np.array([gradient_a,gradient_b])\n",
        "    new_v_n = (gamma * v_n) + (learning_rate*grad_ab)\n",
        "    new_ab = old_ab - new_v_n\n",
        "    while((new_ab - old_ab).all() !=0):\n",
        "        iteration += 1\n",
        "        old_ab = new_ab\n",
        "        v_n = new_v_n\n",
        "        a = old_ab[0]\n",
        "        b = old_ab[1]\n",
        "        gradient_a = 1/n * (np.sum(-2*(y_train - a - (b * x_train))))\n",
        "        gradient_b = 1/n * (np.sum(-2*((x_train*y_train) - (a*x_train) - (b*(x_train**2)))))\n",
        "        grad_ab = np.array([gradient_a,gradient_b])\n",
        "        new_v_n = (gamma * v_n) + (learning_rate*grad_ab)\n",
        "        new_ab = old_ab - new_v_n\n",
        "    return [iteration, new_ab]\n",
        "\n",
        "\n",
        "\n",
        "def nesterov_momentum(x_train,y_train,gamma, a0, b0, learning_rate):\n",
        "    '''nesterov momentum'''\n",
        "    iteration = 1\n",
        "    n = len(x_train)\n",
        "    v_n = np.array([0.0,0.0])\n",
        "    old_ab = np.array([a0,b0])\n",
        "    a, b = old_ab[0], old_ab[1]\n",
        "    gradient_a = 1/n * (np.sum(-2*(y_train - a -(gamma*v_n[0]) - ((b-(gamma*v_n[1])) * x_train))))\n",
        "    gradient_b = 1/n * (np.sum(-2*((x_train*y_train) - ((a-(gamma*v_n[0]))*x_train) - ((b-(gamma*v_n[1]))*(x_train**2)))))\n",
        "    grad_ab = np.array([gradient_a,gradient_b])\n",
        "    new_v_n = (gamma * v_n) + (learning_rate*grad_ab)\n",
        "    new_ab = old_ab - new_v_n\n",
        "    while((new_ab - old_ab).all() !=0):\n",
        "        iteration += 1\n",
        "        old_ab = new_ab\n",
        "        v_n = new_v_n\n",
        "        a = old_ab[0]\n",
        "        b = old_ab[1]\n",
        "        gradient_a = 1/n * (np.sum(-2*(y_train - (a -(gamma*v_n[0])) - ((b-(gamma*v_n[1])) * x_train))))\n",
        "        gradient_b = 1/n * (np.sum(-2*((x_train*y_train) - ((a-(gamma*v_n[0]))*x_train) - ((b-(gamma*v_n[1]))*(x_train**2)))))\n",
        "        grad_ab = np.array([gradient_a,gradient_b])\n",
        "        new_v_n = (gamma * v_n) + (learning_rate*grad_ab)\n",
        "        new_ab = old_ab - new_v_n\n",
        "    return [iteration, new_ab]\n",
        "\n"
      ]
    },
    {
      "cell_type": "code",
      "execution_count": null,
      "metadata": {
        "colab": {
          "base_uri": "https://localhost:8080/"
        },
        "id": "WY1Mbd_GrJig",
        "outputId": "ef2de884-e2d7-464d-847e-def048da53eb"
      },
      "outputs": [
        {
          "output_type": "stream",
          "name": "stdout",
          "text": [
            "\n",
            "******* Exercise 2a *************\n",
            "\n",
            "Deducing a* b* numerically:\n",
            "a_star: -0.91372385011034\n",
            "b_star:  1.356735000649594\n",
            "\n"
          ]
        }
      ],
      "source": [
        "'''Exercise 2a - Deduce the Minimum Numerically'''\n",
        "#since we're deducing the gradient, we;ve used all points\n",
        "x_train = data[0:int(len(data)), 0]\n",
        "y_train = data[0:int(len(data)), 1]\n",
        "\n",
        "print('\\n******* Exercise 2a *************\\n')\n",
        "optimal_ab = calculate_minima(x_train,y_train)\n",
        "print('Deducing a* b* numerically:\\na_star: {}\\nb_star:  {}\\n'.format(optimal_ab[0], optimal_ab[1]))"
      ]
    },
    {
      "cell_type": "code",
      "execution_count": null,
      "metadata": {
        "colab": {
          "base_uri": "https://localhost:8080/"
        },
        "id": "Bjm-QOhmrJig",
        "outputId": "4f2ec673-6926-4926-93f6-75e7df6d8de0"
      },
      "outputs": [
        {
          "output_type": "stream",
          "name": "stdout",
          "text": [
            "\n",
            "\n",
            "******* Exercise 2b, 2c ********\n",
            "Method             Iterations    a_star    b_star\n",
            "Gradient Descent   4083          -0.9137   1.3567\n",
            "Using Momentum     624           -0.9137   1.3567\n",
            "Nesterov Momentum  540           -0.9137   1.3567\n"
          ]
        }
      ],
      "source": [
        "print('\\n\\n******* Exercise 2b, 2c ********')\n",
        "a0 = 1.8\n",
        "b0 = 1.4\n",
        "learning_rate = 0.05\n",
        "gamma = 0.9\n",
        "\n",
        "print('Method             Iterations    a_star    b_star')\n",
        "iterations, new_ab = gradient_descent(x_train, y_train, a0, b0, learning_rate, optimal_ab)\n",
        "print('Gradient Descent   %-14i%-10.4f%.4f'%(iterations, new_ab[0], new_ab[1]))\n",
        "\n",
        "iterations, new_ab_momentum = momentum(x_train, y_train, gamma, a0, b0, learning_rate)\n",
        "print('Using Momentum     %-14i%-10.4f%.4f'%(iterations, new_ab_momentum[0], new_ab_momentum[1]))\n",
        "\n",
        "iterations, new_ab_nesterov = nesterov_momentum(x_train, y_train,gamma, a0, b0, learning_rate)\n",
        "print('Nesterov Momentum  %-14i%-10.4f%.4f'%(iterations, new_ab_nesterov[0], new_ab_nesterov[1]))"
      ]
    },
    {
      "cell_type": "code",
      "source": [
        "''' Extra -question'''\n",
        "#testing RMSprop using existing class\n",
        "import torch\n",
        "import torch.optim as optim\n",
        "import numpy as np\n",
        "\n",
        "\n",
        "# Define the model parameters\n",
        "a = torch.tensor([1.8], requires_grad=True)\n",
        "b = torch.tensor([1.4], requires_grad=True)\n",
        "filepath = 'data_HW1_ex1.csv'\n",
        "data = np.loadtxt(filepath, delimiter=',') \n",
        "xi, yi = data[:,0], data[:,1]\n",
        "xi = torch.from_numpy(x)\n",
        "yi = torch.from_numpy(y)\n",
        "\n",
        "\n",
        "# Define the optimization algorithm\n",
        "optimizer = optim.Adam([a, b], lr=0.05,)\n",
        "\n",
        "# Define the loss function\n",
        "def loss_fn(a, b, xi, yi):\n",
        "    return (yi - (a + b * xi)).pow(2).mean()\n",
        "\n",
        "\n",
        "# Define a threshold for the change in loss\n",
        "# threshold = 1e-5\n",
        "\n",
        "# Define the training loop\n",
        "prev_a = float('inf')\n",
        "prev_b = float('inf')\n",
        "prev_loss = float('inf')\n",
        "for epoch in range(10000):\n",
        "    # Compute the loss\n",
        "    loss = loss_fn(a, b, xi, yi)\n",
        "    # Check if the change in loss is below the threshold\n",
        "    #if abs(loss.item() - prev_loss)== 0:\n",
        "    if abs(a.item() - prev_a) ==0 and abs(b.item() - prev_b) ==0:\n",
        "      break\n",
        "    \n",
        "    # Save the previous values of a and b\n",
        "    prev_a = a.item()\n",
        "    prev_b = b.item()\n",
        "    \n",
        "    # Save the previous loss\n",
        "    prev_loss = loss.item()\n",
        "    \n",
        "    # Zero the gradients\n",
        "    optimizer.zero_grad()\n",
        "    \n",
        "    # Compute the gradients\n",
        "    loss.backward()\n",
        "    \n",
        "    # Update the parameters\n",
        "    optimizer.step()\n",
        "\n",
        "print(epoch)\n",
        "print(\"Minimum loss:\", loss.item())\n",
        "print(a,b)"
      ],
      "metadata": {
        "id": "aSGD-_yyxSOe",
        "colab": {
          "base_uri": "https://localhost:8080/"
        },
        "outputId": "82cf50e8-b738-49ff-9f57-379d761f013b"
      },
      "execution_count": 79,
      "outputs": [
        {
          "output_type": "stream",
          "name": "stdout",
          "text": [
            "1043\n",
            "Minimum loss: 0.19195038514368665\n",
            "tensor([-0.9137], requires_grad=True) tensor([1.3567], requires_grad=True)\n"
          ]
        }
      ]
    },
    {
      "cell_type": "code",
      "source": [
        "''' Extra -question'''\n",
        "#testing RMSprop using existing class\n",
        "import torch\n",
        "import torch.optim as optim\n",
        "import numpy as np\n",
        "\n",
        "\n",
        "# Define the model parameters\n",
        "a = torch.tensor([1.8], requires_grad=True)\n",
        "b = torch.tensor([1.4], requires_grad=True)\n",
        "filepath = 'data_HW1_ex1.csv'\n",
        "data = np.loadtxt(filepath, delimiter=',') \n",
        "xi, yi = data[:,0], data[:,1]\n",
        "xi = torch.from_numpy(x)\n",
        "yi = torch.from_numpy(y)\n",
        "\n",
        "\n",
        "# Define the optimization algorithm\n",
        "optimizer = optim.Adagrad([a, b], lr=0.05)\n",
        "\n",
        "# Define the loss function\n",
        "def loss_fn(a, b, xi, yi):\n",
        "    return (yi - (a + b * xi)).pow(2).mean()\n",
        "\n",
        "\n",
        "# Define a threshold for the change in loss\n",
        "#threshold = 1e-5\n",
        "\n",
        "# Define the training loop\n",
        "prev_loss = float('inf')\n",
        "for epoch in range(100000):\n",
        "    # Compute the loss\n",
        "    loss = loss_fn(a, b, xi, yi)\n",
        "    # Check if the change in loss is below the threshold\n",
        "    if abs(loss.item() - prev_loss)== 0:\n",
        "        break\n",
        "    \n",
        "    # Save the previous loss\n",
        "    prev_loss = loss.item()\n",
        "    \n",
        "    # Zero the gradients\n",
        "    optimizer.zero_grad()\n",
        "    \n",
        "    # Compute the gradients\n",
        "    loss.backward()\n",
        "    \n",
        "    # Update the parameters\n",
        "    optimizer.step()\n",
        "\n",
        "print(epoch)\n",
        "print(\"Minimum loss:\", loss.item())\n",
        "print(a,b)"
      ],
      "metadata": {
        "colab": {
          "base_uri": "https://localhost:8080/"
        },
        "id": "rYYm4YD7LzAr",
        "outputId": "e6b41a8b-dc6d-425f-8351-5b9258d146bb"
      },
      "execution_count": 55,
      "outputs": [
        {
          "output_type": "stream",
          "name": "stdout",
          "text": [
            "41529\n",
            "Minimum loss: 0.19195039162555402\n",
            "tensor([-0.9135], requires_grad=True) tensor([1.3566], requires_grad=True)\n"
          ]
        }
      ]
    },
    {
      "cell_type": "code",
      "source": [
        "''' Extra -question'''\n",
        "#testing RMSprop using existing class\n",
        "import torch\n",
        "import torch.optim as optim\n",
        "import numpy as np\n",
        "\n",
        "\n",
        "# Define the model parameters\n",
        "a = torch.tensor([1.8], requires_grad=True)\n",
        "b = torch.tensor([1.4], requires_grad=True)\n",
        "filepath = 'data_HW1_ex1.csv'\n",
        "data = np.loadtxt(filepath, delimiter=',') \n",
        "xi, yi = data[:,0], data[:,1]\n",
        "xi = torch.from_numpy(x)\n",
        "yi = torch.from_numpy(y)\n",
        "\n",
        "\n",
        "# Define the optimization algorithm\n",
        "optimizer = optim.Adam([a, b], lr=0.05)\n",
        "\n",
        "# Define the loss function\n",
        "def loss_fn(a, b, xi, yi):\n",
        "    return (yi - (a + b * xi)).pow(2).mean()\n",
        "\n",
        "\n",
        "# Define a threshold for the change in loss\n",
        "#threshold = 1e-5\n",
        "\n",
        "# Define the training loop\n",
        "prev_loss = float('inf')\n",
        "for epoch in range(10000):\n",
        "    # Compute the loss\n",
        "    loss = loss_fn(a, b, xi, yi)\n",
        "    # Check if the change in loss is below the threshold\n",
        "    if abs(loss.item() - prev_loss)==0:\n",
        "        break\n",
        "    \n",
        "    # Save the previous loss\n",
        "    prev_loss = loss.item()\n",
        "    \n",
        "    # Zero the gradients\n",
        "    optimizer.zero_grad()\n",
        "    \n",
        "    # Compute the gradients\n",
        "    loss.backward()\n",
        "    \n",
        "    # Update the parameters\n",
        "    optimizer.step()\n",
        "\n",
        "print(epoch)\n",
        "print(\"Minimum loss:\", loss.item())\n",
        "print(a,b)"
      ],
      "metadata": {
        "colab": {
          "base_uri": "https://localhost:8080/"
        },
        "id": "GUMzPx8_Mswy",
        "outputId": "9a49c26f-111b-438d-f663-b418571cf186"
      },
      "execution_count": 60,
      "outputs": [
        {
          "output_type": "stream",
          "name": "stdout",
          "text": [
            "1043\n",
            "Minimum loss: 0.19195038514368665\n",
            "tensor([-0.9137], requires_grad=True) tensor([1.3567], requires_grad=True)\n"
          ]
        }
      ]
    },
    {
      "cell_type": "code",
      "source": [],
      "metadata": {
        "id": "B9y_2IvfMaGL"
      },
      "execution_count": null,
      "outputs": []
    },
    {
      "cell_type": "markdown",
      "metadata": {
        "id": "3cx3Q47VrJig"
      },
      "source": [
        "</br>\n",
        "We see that gradient takes the most number of iterations to converge. </br>\n",
        "Using momentum reducs the number of iterations to reach the same point.</br>\n",
        "Nesterov Momentum takes the least number of iterations."
      ]
    },
    {
      "cell_type": "markdown",
      "metadata": {
        "id": "T6mDnnV0rJih"
      },
      "source": [
        "</br></br>\n",
        "############################################## \n",
        "    ## Exercise 3 (Python) ## \n",
        "##############################################\n",
        "</br></br>"
      ]
    },
    {
      "cell_type": "code",
      "execution_count": null,
      "metadata": {
        "colab": {
          "base_uri": "https://localhost:8080/",
          "height": 1000,
          "referenced_widgets": [
            "a0f0475c77b546fcaeceb10a9116f867",
            "f8f2f7ee469744f0bd1cdfaefe2177a3",
            "bf036ed15cb842e89d54cec5d8b8d912",
            "5b437233a68c42708555192ec6648e7f",
            "548fe5074bf6412b8fe5d4aae7efebcf",
            "41b6a71e7bc44ed392af8dbc9e22b156",
            "69d380ee5406437f82b398fb43405a62",
            "165fe32ca8874ed2b504a426912ad6e0",
            "35a0b6ba4ebb4550ae451072f7ec7528",
            "a94d338ee05b4b439e6c822a762baabe",
            "23523c1c7ab34aadabfca96140cc60dd",
            "41b33f52b6664d92853db83830a43ed8",
            "6fb9ca322ea04a56a4859aa3b9be7b9f",
            "fe7e40c61e5d42748dab5c744ae39a5a",
            "bc1b3214dbd244328a8cbd432c06e883",
            "e9f42a903703480cbf931ba99db99f36",
            "85c78b5f90754c7b8a2efb832fd5ab6e",
            "c8538554ccfc4318ae5c004e6ebb6f6c",
            "26170b987f41414a8a29fb6726a28791",
            "6c44738ebde64e3586d4a3015712ca54",
            "705506acb9344935be0d13545a164e5b",
            "d05eb8f34a8444fc8fba1875805e99d3",
            "0261863ff70244d9859ba4722c26d2fe",
            "851edb68a1964cc0a56f4ba3cd869646",
            "68448983a4f74a399ddcbff4cc371576",
            "7b478002b00c4d56907850b9e2d5ce69",
            "9edcccf8fbd245fba3f206952c283206",
            "82dd033344ba4a0996f36235b7cfc557",
            "a1cf704523404186bcc50c2344355399",
            "abcee84fcf90454e94d0742437d9bf78",
            "90e96709b2db4a49829b2b78188d1f0b",
            "a7c8db5ed91b4526bc4892b9b34529c6",
            "230e717612ea4494badbb49f66f23d97",
            "189e40fec9944ddbb6402cb1356d30ed",
            "b71ad4bb105c425797d931e4afa504d2",
            "546d61c032454703b32278102d5e48fe",
            "07f9b24dc43744f1ba74ecd9aa823534",
            "c9508fe1463d4c0e8d68678682523dd8",
            "2fac5b3d518f472497345ccf57c88694",
            "221948d9d3134dae8ebbf9b75f522d5a",
            "01e558b83cb9493ca8d084aaa0f0b7c1",
            "5a88fe7184cf41e09c0305bd61fa154e",
            "5e21a7a0a26b4faeb590bfe92463205a",
            "db0106b069a24d8fa8a716cdbbb49dc1"
          ]
        },
        "id": "dQNJH14nrJih",
        "outputId": "adeef9b4-a26c-4b9b-f8a5-1329eaec7e9a"
      },
      "outputs": [
        {
          "output_type": "stream",
          "name": "stdout",
          "text": [
            "Downloading http://fashion-mnist.s3-website.eu-central-1.amazonaws.com/train-images-idx3-ubyte.gz\n",
            "Downloading http://fashion-mnist.s3-website.eu-central-1.amazonaws.com/train-images-idx3-ubyte.gz to data/FashionMNIST/raw/train-images-idx3-ubyte.gz\n"
          ]
        },
        {
          "output_type": "display_data",
          "data": {
            "text/plain": [
              "  0%|          | 0/26421880 [00:00<?, ?it/s]"
            ],
            "application/vnd.jupyter.widget-view+json": {
              "version_major": 2,
              "version_minor": 0,
              "model_id": "a0f0475c77b546fcaeceb10a9116f867"
            }
          },
          "metadata": {}
        },
        {
          "output_type": "stream",
          "name": "stdout",
          "text": [
            "Extracting data/FashionMNIST/raw/train-images-idx3-ubyte.gz to data/FashionMNIST/raw\n",
            "\n",
            "Downloading http://fashion-mnist.s3-website.eu-central-1.amazonaws.com/train-labels-idx1-ubyte.gz\n",
            "Downloading http://fashion-mnist.s3-website.eu-central-1.amazonaws.com/train-labels-idx1-ubyte.gz to data/FashionMNIST/raw/train-labels-idx1-ubyte.gz\n"
          ]
        },
        {
          "output_type": "display_data",
          "data": {
            "text/plain": [
              "  0%|          | 0/29515 [00:00<?, ?it/s]"
            ],
            "application/vnd.jupyter.widget-view+json": {
              "version_major": 2,
              "version_minor": 0,
              "model_id": "41b33f52b6664d92853db83830a43ed8"
            }
          },
          "metadata": {}
        },
        {
          "output_type": "stream",
          "name": "stdout",
          "text": [
            "Extracting data/FashionMNIST/raw/train-labels-idx1-ubyte.gz to data/FashionMNIST/raw\n",
            "\n",
            "Downloading http://fashion-mnist.s3-website.eu-central-1.amazonaws.com/t10k-images-idx3-ubyte.gz\n",
            "Downloading http://fashion-mnist.s3-website.eu-central-1.amazonaws.com/t10k-images-idx3-ubyte.gz to data/FashionMNIST/raw/t10k-images-idx3-ubyte.gz\n"
          ]
        },
        {
          "output_type": "display_data",
          "data": {
            "text/plain": [
              "  0%|          | 0/4422102 [00:00<?, ?it/s]"
            ],
            "application/vnd.jupyter.widget-view+json": {
              "version_major": 2,
              "version_minor": 0,
              "model_id": "0261863ff70244d9859ba4722c26d2fe"
            }
          },
          "metadata": {}
        },
        {
          "output_type": "stream",
          "name": "stdout",
          "text": [
            "Extracting data/FashionMNIST/raw/t10k-images-idx3-ubyte.gz to data/FashionMNIST/raw\n",
            "\n",
            "Downloading http://fashion-mnist.s3-website.eu-central-1.amazonaws.com/t10k-labels-idx1-ubyte.gz\n",
            "Downloading http://fashion-mnist.s3-website.eu-central-1.amazonaws.com/t10k-labels-idx1-ubyte.gz to data/FashionMNIST/raw/t10k-labels-idx1-ubyte.gz\n"
          ]
        },
        {
          "output_type": "display_data",
          "data": {
            "text/plain": [
              "  0%|          | 0/5148 [00:00<?, ?it/s]"
            ],
            "application/vnd.jupyter.widget-view+json": {
              "version_major": 2,
              "version_minor": 0,
              "model_id": "189e40fec9944ddbb6402cb1356d30ed"
            }
          },
          "metadata": {}
        },
        {
          "output_type": "stream",
          "name": "stdout",
          "text": [
            "Extracting data/FashionMNIST/raw/t10k-labels-idx1-ubyte.gz to data/FashionMNIST/raw\n",
            "\n",
            "******** 3a/b. Training the model ********\n",
            "Epoch1...\n",
            "Epoch: 1   Average Loss:0.7195980889227862\n",
            "Epoch: 2   Average Loss:0.516348328949317\n",
            "Epoch: 3   Average Loss:0.47787853213367054\n",
            "Epoch: 4   Average Loss:0.4573181561285979\n",
            "Epoch: 5   Average Loss:0.4439974391178791\n",
            "Epoch: 6   Average Loss:0.4345065947753765\n",
            "Epoch: 7   Average Loss:0.42741974855178655\n",
            "Epoch: 8   Average Loss:0.4216841994556501\n",
            "Epoch: 9   Average Loss:0.4167685554575524\n",
            "Epoch: 10   Average Loss:0.41285136274704515\n",
            "Epoch: 11   Average Loss:0.40918181879454546\n",
            "Epoch: 12   Average Loss:0.40641405744614456\n",
            "Epoch: 13   Average Loss:0.4037974491041338\n",
            "Epoch: 14   Average Loss:0.4013928988110449\n",
            "Epoch: 15   Average Loss:0.3989367216358815\n",
            "Epoch: 16   Average Loss:0.39682973624631995\n",
            "Epoch: 17   Average Loss:0.39563865020219624\n",
            "Epoch: 18   Average Loss:0.39377713750570936\n",
            "Epoch: 19   Average Loss:0.39238969499128873\n",
            "Epoch: 20   Average Loss:0.39114005234158833\n",
            "Epoch: 21   Average Loss:0.3898673475399691\n",
            "Epoch: 22   Average Loss:0.38843526557351\n",
            "Epoch: 23   Average Loss:0.3873073329176361\n",
            "Epoch: 24   Average Loss:0.38651559055621326\n",
            "Epoch: 25   Average Loss:0.3853837909537465\n",
            "Epoch: 26   Average Loss:0.3843144943428342\n",
            "Epoch: 27   Average Loss:0.3831245431663139\n",
            "Epoch: 28   Average Loss:0.38238018719160755\n",
            "Epoch: 29   Average Loss:0.38162245575830406\n",
            "Epoch: 30   Average Loss:0.38110152852417667\n",
            "Epoch: 31   Average Loss:0.38002589728578073\n",
            "Epoch: 32   Average Loss:0.3794613133201958\n",
            "Epoch: 33   Average Loss:0.3790349542630429\n",
            "Epoch: 34   Average Loss:0.37804282376019643\n",
            "Epoch: 35   Average Loss:0.3775886256005654\n",
            "Epoch: 36   Average Loss:0.376791187740452\n",
            "Epoch: 37   Average Loss:0.37642163476985685\n",
            "Epoch: 38   Average Loss:0.37590672648887846\n",
            "Epoch: 39   Average Loss:0.37517841256735845\n",
            "Epoch: 40   Average Loss:0.3745193981492591\n",
            "\n",
            "******* 3b. Loss vs Epoch ********\n"
          ]
        },
        {
          "output_type": "display_data",
          "data": {
            "text/plain": [
              "<Figure size 432x288 with 1 Axes>"
            ],
            "image/png": "[encoded data removed]"
          },
          "metadata": {
            "needs_background": "light"
          }
        },
        {
          "output_type": "display_data",
          "data": {
            "text/plain": [
              "<Figure size 432x288 with 0 Axes>"
            ]
          },
          "metadata": {}
        }
      ],
      "source": [
        "'''Exercise 3a, 3b'''\n",
        "#hyperparameters\n",
        "n_epochs = 40\n",
        "learning_rate = 0.0001\n",
        "batch_size = 4\n",
        "\n",
        "#downloading the data\n",
        "batch_size = 4\n",
        "training_set = datasets.FashionMNIST('data',train=True,download=True,transform=transforms.ToTensor())\n",
        "testing_set = datasets.FashionMNIST('data',train=False,download=True,transform=transforms.ToTensor())\n",
        "train_data = DataLoader(training_set,shuffle=True,batch_size=batch_size)\n",
        "test_data = DataLoader(testing_set,shuffle=False,batch_size=batch_size)\n",
        "\n",
        "\n",
        "#network\n",
        "network = nn.Linear(28*28,10)\n",
        "optimizer = torch.optim.Adam(network.parameters(),lr=learning_rate)\n",
        "cal_loss = nn.CrossEntropyLoss()\n",
        "\n",
        "track_loss=[]\n",
        "#training\n",
        "print('******** 3a/b. Training the model ********\\nEpoch1...')\n",
        "for epoch in range(n_epochs):\n",
        "    running_loss = 0\n",
        "    minibatch = 0\n",
        "    for img, lbl in train_data:\n",
        "        optimizer.zero_grad()\n",
        "        N, _, h, w = img.size()\n",
        "        score = network(img.view(N,h*w))\n",
        "        loss = cal_loss(score,lbl)\n",
        "        loss.backward()\n",
        "        optimizer.step()\n",
        "        running_loss += loss.detach().numpy()\n",
        "        minibatch += 1\n",
        "    avg_loss = running_loss/minibatch\n",
        "    track_loss.append(avg_loss)\n",
        "    print(\"Epoch: {}   Average Loss:{}\".format(epoch+1, avg_loss))\n",
        "    \n",
        "print('\\n******* 3b. Loss vs Epoch ********')   \n",
        "#Plot training statistics\n",
        "plt.plot([i for i in range(n_epochs) ],track_loss)\n",
        "plt.xlabel(\"Epoch\")\n",
        "plt.ylabel(\"Loss\")\n",
        "plt.show()\n",
        "weights = network.state_dict()['weight']\n",
        "plt.clf()"
      ]
    },
    {
      "cell_type": "code",
      "execution_count": null,
      "metadata": {
        "colab": {
          "base_uri": "https://localhost:8080/",
          "height": 1000
        },
        "id": "6DPFuJXOrJih",
        "outputId": "f60b6d7b-83ea-4d32-a492-1262cb8b68ec"
      },
      "outputs": [
        {
          "output_type": "execute_result",
          "data": {
            "text/plain": [
              "<matplotlib.colorbar.Colorbar at 0x7f7e422047c0>"
            ]
          },
          "metadata": {},
          "execution_count": 16
        },
        {
          "output_type": "display_data",
          "data": {
            "text/plain": [
              "<Figure size 432x288 with 1 Axes>"
            ],
            "image/png": "[encoded data removed]"
          },
          "metadata": {
            "needs_background": "light"
          }
        },
        {
          "output_type": "display_data",
          "data": {
            "text/plain": [
              "<Figure size 432x288 with 1 Axes>"
            ],
            "image/png": "[encoded data removed]"
          },
          "metadata": {
            "needs_background": "light"
          }
        },
        {
          "output_type": "display_data",
          "data": {
            "text/plain": [
              "<Figure size 432x288 with 1 Axes>"
            ],
            "image/png": "[encoded data removed]"
          },
          "metadata": {
            "needs_background": "light"
          }
        },
        {
          "output_type": "display_data",
          "data": {
            "text/plain": [
              "<Figure size 432x288 with 1 Axes>"
            ],
            "image/png": "[encoded data removed]"
          },
          "metadata": {
            "needs_background": "light"
          }
        },
        {
          "output_type": "display_data",
          "data": {
            "text/plain": [
              "<Figure size 432x288 with 1 Axes>"
            ],
            "image/png": "[encoded data removed]"
          },
          "metadata": {
            "needs_background": "light"
          }
        },
        {
          "output_type": "display_data",
          "data": {
            "text/plain": [
              "<Figure size 432x288 with 1 Axes>"
            ],
            "image/png": "[encoded data removed]"
          },
          "metadata": {
            "needs_background": "light"
          }
        },
        {
          "output_type": "display_data",
          "data": {
            "text/plain": [
              "<Figure size 432x288 with 1 Axes>"
            ],
            "image/png": "[encoded data removed]"
          },
          "metadata": {
            "needs_background": "light"
          }
        },
        {
          "output_type": "display_data",
          "data": {
            "text/plain": [
              "<Figure size 432x288 with 1 Axes>"
            ],
            "image/png": "[encoded data removed]"
          },
          "metadata": {
            "needs_background": "light"
          }
        },
        {
          "output_type": "display_data",
          "data": {
            "text/plain": [
              "<Figure size 432x288 with 1 Axes>"
            ],
            "image/png": "[encoded data removed]"
          },
          "metadata": {
            "needs_background": "light"
          }
        },
        {
          "output_type": "display_data",
          "data": {
            "text/plain": [
              "<Figure size 432x288 with 2 Axes>"
            ],
            "image/png": "[encoded data removed]"
          },
          "metadata": {
            "needs_background": "light"
          }
        }
      ],
      "source": [
        "'''Exercise 3c - drawing the template classes'''\n",
        "\n",
        "classes = ['T-shirt/top','Trouser','Pullover','Dress','Coat','Sandal','Shirt','Sneaker','Bag','Ankle boot']\n",
        "for i in range(10):\n",
        "    plt.figure()\n",
        "    plt.imshow(weights[i].view(28,28),vmin=-0.5,vmax=0.5,cmap='seismic')\n",
        "    plt.title('Class {}'.format(classes[i]))\n",
        "plt.colorbar(extend='both')"
      ]
    },
    {
      "cell_type": "code",
      "execution_count": null,
      "metadata": {
        "id": "myAnJ8ugrJih"
      },
      "outputs": [],
      "source": []
    }
  ],
  "metadata": {
    "kernelspec": {
      "display_name": "Python 3",
      "name": "python3"
    },
    "language_info": {
      "name": "python"
    },
    "colab": {
      "provenance": []
    },
    "accelerator": "GPU",
    "gpuClass": "standard",
    "widgets": {
      "application/vnd.jupyter.widget-state+json": {
        "a0f0475c77b546fcaeceb10a9116f867": {
          "model_module": "@jupyter-widgets/controls",
          "model_name": "HBoxModel",
          "model_module_version": "1.5.0",
          "state": {
            "_dom_classes": [],
            "_model_module": "@jupyter-widgets/controls",
            "_model_module_version": "1.5.0",
            "_model_name": "HBoxModel",
            "_view_count": null,
            "_view_module": "@jupyter-widgets/controls",
            "_view_module_version": "1.5.0",
            "_view_name": "HBoxView",
            "box_style": "",
            "children": [
              "IPY_MODEL_f8f2f7ee469744f0bd1cdfaefe2177a3",
              "IPY_MODEL_bf036ed15cb842e89d54cec5d8b8d912",
              "IPY_MODEL_5b437233a68c42708555192ec6648e7f"
            ],
            "layout": "IPY_MODEL_548fe5074bf6412b8fe5d4aae7efebcf"
          }
        },
        "f8f2f7ee469744f0bd1cdfaefe2177a3": {
          "model_module": "@jupyter-widgets/controls",
          "model_name": "HTMLModel",
          "model_module_version": "1.5.0",
          "state": {
            "_dom_classes": [],
            "_model_module": "@jupyter-widgets/controls",
            "_model_module_version": "1.5.0",
            "_model_name": "HTMLModel",
            "_view_count": null,
            "_view_module": "@jupyter-widgets/controls",
            "_view_module_version": "1.5.0",
            "_view_name": "HTMLView",
            "description": "",
            "description_tooltip": null,
            "layout": "IPY_MODEL_41b6a71e7bc44ed392af8dbc9e22b156",
            "placeholder": "​",
            "style": "IPY_MODEL_69d380ee5406437f82b398fb43405a62",
            "value": "100%"
          }
        },
        "bf036ed15cb842e89d54cec5d8b8d912": {
          "model_module": "@jupyter-widgets/controls",
          "model_name": "FloatProgressModel",
          "model_module_version": "1.5.0",
          "state": {
            "_dom_classes": [],
            "_model_module": "@jupyter-widgets/controls",
            "_model_module_version": "1.5.0",
            "_model_name": "FloatProgressModel",
            "_view_count": null,
            "_view_module": "@jupyter-widgets/controls",
            "_view_module_version": "1.5.0",
            "_view_name": "ProgressView",
            "bar_style": "success",
            "description": "",
            "description_tooltip": null,
            "layout": "IPY_MODEL_165fe32ca8874ed2b504a426912ad6e0",
            "max": 26421880,
            "min": 0,
            "orientation": "horizontal",
            "style": "IPY_MODEL_35a0b6ba4ebb4550ae451072f7ec7528",
            "value": 26421880
          }
        },
        "5b437233a68c42708555192ec6648e7f": {
          "model_module": "@jupyter-widgets/controls",
          "model_name": "HTMLModel",
          "model_module_version": "1.5.0",
          "state": {
            "_dom_classes": [],
            "_model_module": "@jupyter-widgets/controls",
            "_model_module_version": "1.5.0",
            "_model_name": "HTMLModel",
            "_view_count": null,
            "_view_module": "@jupyter-widgets/controls",
            "_view_module_version": "1.5.0",
            "_view_name": "HTMLView",
            "description": "",
            "description_tooltip": null,
            "layout": "IPY_MODEL_a94d338ee05b4b439e6c822a762baabe",
            "placeholder": "​",
            "style": "IPY_MODEL_23523c1c7ab34aadabfca96140cc60dd",
            "value": " 26421880/26421880 [00:00&lt;00:00, 112221258.32it/s]"
          }
        },
        "548fe5074bf6412b8fe5d4aae7efebcf": {
          "model_module": "@jupyter-widgets/base",
          "model_name": "LayoutModel",
          "model_module_version": "1.2.0",
          "state": {
            "_model_module": "@jupyter-widgets/base",
            "_model_module_version": "1.2.0",
            "_model_name": "LayoutModel",
            "_view_count": null,
            "_view_module": "@jupyter-widgets/base",
            "_view_module_version": "1.2.0",
            "_view_name": "LayoutView",
            "align_content": null,
            "align_items": null,
            "align_self": null,
            "border": null,
            "bottom": null,
            "display": null,
            "flex": null,
            "flex_flow": null,
            "grid_area": null,
            "grid_auto_columns": null,
            "grid_auto_flow": null,
            "grid_auto_rows": null,
            "grid_column": null,
            "grid_gap": null,
            "grid_row": null,
            "grid_template_areas": null,
            "grid_template_columns": null,
            "grid_template_rows": null,
            "height": null,
            "justify_content": null,
            "justify_items": null,
            "left": null,
            "margin": null,
            "max_height": null,
            "max_width": null,
            "min_height": null,
            "min_width": null,
            "object_fit": null,
            "object_position": null,
            "order": null,
            "overflow": null,
            "overflow_x": null,
            "overflow_y": null,
            "padding": null,
            "right": null,
            "top": null,
            "visibility": null,
            "width": null
          }
        },
        "41b6a71e7bc44ed392af8dbc9e22b156": {
          "model_module": "@jupyter-widgets/base",
          "model_name": "LayoutModel",
          "model_module_version": "1.2.0",
          "state": {
            "_model_module": "@jupyter-widgets/base",
            "_model_module_version": "1.2.0",
            "_model_name": "LayoutModel",
            "_view_count": null,
            "_view_module": "@jupyter-widgets/base",
            "_view_module_version": "1.2.0",
            "_view_name": "LayoutView",
            "align_content": null,
            "align_items": null,
            "align_self": null,
            "border": null,
            "bottom": null,
            "display": null,
            "flex": null,
            "flex_flow": null,
            "grid_area": null,
            "grid_auto_columns": null,
            "grid_auto_flow": null,
            "grid_auto_rows": null,
            "grid_column": null,
            "grid_gap": null,
            "grid_row": null,
            "grid_template_areas": null,
            "grid_template_columns": null,
            "grid_template_rows": null,
            "height": null,
            "justify_content": null,
            "justify_items": null,
            "left": null,
            "margin": null,
            "max_height": null,
            "max_width": null,
            "min_height": null,
            "min_width": null,
            "object_fit": null,
            "object_position": null,
            "order": null,
            "overflow": null,
            "overflow_x": null,
            "overflow_y": null,
            "padding": null,
            "right": null,
            "top": null,
            "visibility": null,
            "width": null
          }
        },
        "69d380ee5406437f82b398fb43405a62": {
          "model_module": "@jupyter-widgets/controls",
          "model_name": "DescriptionStyleModel",
          "model_module_version": "1.5.0",
          "state": {
            "_model_module": "@jupyter-widgets/controls",
            "_model_module_version": "1.5.0",
            "_model_name": "DescriptionStyleModel",
            "_view_count": null,
            "_view_module": "@jupyter-widgets/base",
            "_view_module_version": "1.2.0",
            "_view_name": "StyleView",
            "description_width": ""
          }
        },
        "165fe32ca8874ed2b504a426912ad6e0": {
          "model_module": "@jupyter-widgets/base",
          "model_name": "LayoutModel",
          "model_module_version": "1.2.0",
          "state": {
            "_model_module": "@jupyter-widgets/base",
            "_model_module_version": "1.2.0",
            "_model_name": "LayoutModel",
            "_view_count": null,
            "_view_module": "@jupyter-widgets/base",
            "_view_module_version": "1.2.0",
            "_view_name": "LayoutView",
            "align_content": null,
            "align_items": null,
            "align_self": null,
            "border": null,
            "bottom": null,
            "display": null,
            "flex": null,
            "flex_flow": null,
            "grid_area": null,
            "grid_auto_columns": null,
            "grid_auto_flow": null,
            "grid_auto_rows": null,
            "grid_column": null,
            "grid_gap": null,
            "grid_row": null,
            "grid_template_areas": null,
            "grid_template_columns": null,
            "grid_template_rows": null,
            "height": null,
            "justify_content": null,
            "justify_items": null,
            "left": null,
            "margin": null,
            "max_height": null,
            "max_width": null,
            "min_height": null,
            "min_width": null,
            "object_fit": null,
            "object_position": null,
            "order": null,
            "overflow": null,
            "overflow_x": null,
            "overflow_y": null,
            "padding": null,
            "right": null,
            "top": null,
            "visibility": null,
            "width": null
          }
        },
        "35a0b6ba4ebb4550ae451072f7ec7528": {
          "model_module": "@jupyter-widgets/controls",
          "model_name": "ProgressStyleModel",
          "model_module_version": "1.5.0",
          "state": {
            "_model_module": "@jupyter-widgets/controls",
            "_model_module_version": "1.5.0",
            "_model_name": "ProgressStyleModel",
            "_view_count": null,
            "_view_module": "@jupyter-widgets/base",
            "_view_module_version": "1.2.0",
            "_view_name": "StyleView",
            "bar_color": null,
            "description_width": ""
          }
        },
        "a94d338ee05b4b439e6c822a762baabe": {
          "model_module": "@jupyter-widgets/base",
          "model_name": "LayoutModel",
          "model_module_version": "1.2.0",
          "state": {
            "_model_module": "@jupyter-widgets/base",
            "_model_module_version": "1.2.0",
            "_model_name": "LayoutModel",
            "_view_count": null,
            "_view_module": "@jupyter-widgets/base",
            "_view_module_version": "1.2.0",
            "_view_name": "LayoutView",
            "align_content": null,
            "align_items": null,
            "align_self": null,
            "border": null,
            "bottom": null,
            "display": null,
            "flex": null,
            "flex_flow": null,
            "grid_area": null,
            "grid_auto_columns": null,
            "grid_auto_flow": null,
            "grid_auto_rows": null,
            "grid_column": null,
            "grid_gap": null,
            "grid_row": null,
            "grid_template_areas": null,
            "grid_template_columns": null,
            "grid_template_rows": null,
            "height": null,
            "justify_content": null,
            "justify_items": null,
            "left": null,
            "margin": null,
            "max_height": null,
            "max_width": null,
            "min_height": null,
            "min_width": null,
            "object_fit": null,
            "object_position": null,
            "order": null,
            "overflow": null,
            "overflow_x": null,
            "overflow_y": null,
            "padding": null,
            "right": null,
            "top": null,
            "visibility": null,
            "width": null
          }
        },
        "23523c1c7ab34aadabfca96140cc60dd": {
          "model_module": "@jupyter-widgets/controls",
          "model_name": "DescriptionStyleModel",
          "model_module_version": "1.5.0",
          "state": {
            "_model_module": "@jupyter-widgets/controls",
            "_model_module_version": "1.5.0",
            "_model_name": "DescriptionStyleModel",
            "_view_count": null,
            "_view_module": "@jupyter-widgets/base",
            "_view_module_version": "1.2.0",
            "_view_name": "StyleView",
            "description_width": ""
          }
        },
        "41b33f52b6664d92853db83830a43ed8": {
          "model_module": "@jupyter-widgets/controls",
          "model_name": "HBoxModel",
          "model_module_version": "1.5.0",
          "state": {
            "_dom_classes": [],
            "_model_module": "@jupyter-widgets/controls",
            "_model_module_version": "1.5.0",
            "_model_name": "HBoxModel",
            "_view_count": null,
            "_view_module": "@jupyter-widgets/controls",
            "_view_module_version": "1.5.0",
            "_view_name": "HBoxView",
            "box_style": "",
            "children": [
              "IPY_MODEL_6fb9ca322ea04a56a4859aa3b9be7b9f",
              "IPY_MODEL_fe7e40c61e5d42748dab5c744ae39a5a",
              "IPY_MODEL_bc1b3214dbd244328a8cbd432c06e883"
            ],
            "layout": "IPY_MODEL_e9f42a903703480cbf931ba99db99f36"
          }
        },
        "6fb9ca322ea04a56a4859aa3b9be7b9f": {
          "model_module": "@jupyter-widgets/controls",
          "model_name": "HTMLModel",
          "model_module_version": "1.5.0",
          "state": {
            "_dom_classes": [],
            "_model_module": "@jupyter-widgets/controls",
            "_model_module_version": "1.5.0",
            "_model_name": "HTMLModel",
            "_view_count": null,
            "_view_module": "@jupyter-widgets/controls",
            "_view_module_version": "1.5.0",
            "_view_name": "HTMLView",
            "description": "",
            "description_tooltip": null,
            "layout": "IPY_MODEL_85c78b5f90754c7b8a2efb832fd5ab6e",
            "placeholder": "​",
            "style": "IPY_MODEL_c8538554ccfc4318ae5c004e6ebb6f6c",
            "value": "100%"
          }
        },
        "fe7e40c61e5d42748dab5c744ae39a5a": {
          "model_module": "@jupyter-widgets/controls",
          "model_name": "FloatProgressModel",
          "model_module_version": "1.5.0",
          "state": {
            "_dom_classes": [],
            "_model_module": "@jupyter-widgets/controls",
            "_model_module_version": "1.5.0",
            "_model_name": "FloatProgressModel",
            "_view_count": null,
            "_view_module": "@jupyter-widgets/controls",
            "_view_module_version": "1.5.0",
            "_view_name": "ProgressView",
            "bar_style": "success",
            "description": "",
            "description_tooltip": null,
            "layout": "IPY_MODEL_26170b987f41414a8a29fb6726a28791",
            "max": 29515,
            "min": 0,
            "orientation": "horizontal",
            "style": "IPY_MODEL_6c44738ebde64e3586d4a3015712ca54",
            "value": 29515
          }
        },
        "bc1b3214dbd244328a8cbd432c06e883": {
          "model_module": "@jupyter-widgets/controls",
          "model_name": "HTMLModel",
          "model_module_version": "1.5.0",
          "state": {
            "_dom_classes": [],
            "_model_module": "@jupyter-widgets/controls",
            "_model_module_version": "1.5.0",
            "_model_name": "HTMLModel",
            "_view_count": null,
            "_view_module": "@jupyter-widgets/controls",
            "_view_module_version": "1.5.0",
            "_view_name": "HTMLView",
            "description": "",
            "description_tooltip": null,
            "layout": "IPY_MODEL_705506acb9344935be0d13545a164e5b",
            "placeholder": "​",
            "style": "IPY_MODEL_d05eb8f34a8444fc8fba1875805e99d3",
            "value": " 29515/29515 [00:00&lt;00:00, 1298756.61it/s]"
          }
        },
        "e9f42a903703480cbf931ba99db99f36": {
          "model_module": "@jupyter-widgets/base",
          "model_name": "LayoutModel",
          "model_module_version": "1.2.0",
          "state": {
            "_model_module": "@jupyter-widgets/base",
            "_model_module_version": "1.2.0",
            "_model_name": "LayoutModel",
            "_view_count": null,
            "_view_module": "@jupyter-widgets/base",
            "_view_module_version": "1.2.0",
            "_view_name": "LayoutView",
            "align_content": null,
            "align_items": null,
            "align_self": null,
            "border": null,
            "bottom": null,
            "display": null,
            "flex": null,
            "flex_flow": null,
            "grid_area": null,
            "grid_auto_columns": null,
            "grid_auto_flow": null,
            "grid_auto_rows": null,
            "grid_column": null,
            "grid_gap": null,
            "grid_row": null,
            "grid_template_areas": null,
            "grid_template_columns": null,
            "grid_template_rows": null,
            "height": null,
            "justify_content": null,
            "justify_items": null,
            "left": null,
            "margin": null,
            "max_height": null,
            "max_width": null,
            "min_height": null,
            "min_width": null,
            "object_fit": null,
            "object_position": null,
            "order": null,
            "overflow": null,
            "overflow_x": null,
            "overflow_y": null,
            "padding": null,
            "right": null,
            "top": null,
            "visibility": null,
            "width": null
          }
        },
        "85c78b5f90754c7b8a2efb832fd5ab6e": {
          "model_module": "@jupyter-widgets/base",
          "model_name": "LayoutModel",
          "model_module_version": "1.2.0",
          "state": {
            "_model_module": "@jupyter-widgets/base",
            "_model_module_version": "1.2.0",
            "_model_name": "LayoutModel",
            "_view_count": null,
            "_view_module": "@jupyter-widgets/base",
            "_view_module_version": "1.2.0",
            "_view_name": "LayoutView",
            "align_content": null,
            "align_items": null,
            "align_self": null,
            "border": null,
            "bottom": null,
            "display": null,
            "flex": null,
            "flex_flow": null,
            "grid_area": null,
            "grid_auto_columns": null,
            "grid_auto_flow": null,
            "grid_auto_rows": null,
            "grid_column": null,
            "grid_gap": null,
            "grid_row": null,
            "grid_template_areas": null,
            "grid_template_columns": null,
            "grid_template_rows": null,
            "height": null,
            "justify_content": null,
            "justify_items": null,
            "left": null,
            "margin": null,
            "max_height": null,
            "max_width": null,
            "min_height": null,
            "min_width": null,
            "object_fit": null,
            "object_position": null,
            "order": null,
            "overflow": null,
            "overflow_x": null,
            "overflow_y": null,
            "padding": null,
            "right": null,
            "top": null,
            "visibility": null,
            "width": null
          }
        },
        "c8538554ccfc4318ae5c004e6ebb6f6c": {
          "model_module": "@jupyter-widgets/controls",
          "model_name": "DescriptionStyleModel",
          "model_module_version": "1.5.0",
          "state": {
            "_model_module": "@jupyter-widgets/controls",
            "_model_module_version": "1.5.0",
            "_model_name": "DescriptionStyleModel",
            "_view_count": null,
            "_view_module": "@jupyter-widgets/base",
            "_view_module_version": "1.2.0",
            "_view_name": "StyleView",
            "description_width": ""
          }
        },
        "26170b987f41414a8a29fb6726a28791": {
          "model_module": "@jupyter-widgets/base",
          "model_name": "LayoutModel",
          "model_module_version": "1.2.0",
          "state": {
            "_model_module": "@jupyter-widgets/base",
            "_model_module_version": "1.2.0",
            "_model_name": "LayoutModel",
            "_view_count": null,
            "_view_module": "@jupyter-widgets/base",
            "_view_module_version": "1.2.0",
            "_view_name": "LayoutView",
            "align_content": null,
            "align_items": null,
            "align_self": null,
            "border": null,
            "bottom": null,
            "display": null,
            "flex": null,
            "flex_flow": null,
            "grid_area": null,
            "grid_auto_columns": null,
            "grid_auto_flow": null,
            "grid_auto_rows": null,
            "grid_column": null,
            "grid_gap": null,
            "grid_row": null,
            "grid_template_areas": null,
            "grid_template_columns": null,
            "grid_template_rows": null,
            "height": null,
            "justify_content": null,
            "justify_items": null,
            "left": null,
            "margin": null,
            "max_height": null,
            "max_width": null,
            "min_height": null,
            "min_width": null,
            "object_fit": null,
            "object_position": null,
            "order": null,
            "overflow": null,
            "overflow_x": null,
            "overflow_y": null,
            "padding": null,
            "right": null,
            "top": null,
            "visibility": null,
            "width": null
          }
        },
        "6c44738ebde64e3586d4a3015712ca54": {
          "model_module": "@jupyter-widgets/controls",
          "model_name": "ProgressStyleModel",
          "model_module_version": "1.5.0",
          "state": {
            "_model_module": "@jupyter-widgets/controls",
            "_model_module_version": "1.5.0",
            "_model_name": "ProgressStyleModel",
            "_view_count": null,
            "_view_module": "@jupyter-widgets/base",
            "_view_module_version": "1.2.0",
            "_view_name": "StyleView",
            "bar_color": null,
            "description_width": ""
          }
        },
        "705506acb9344935be0d13545a164e5b": {
          "model_module": "@jupyter-widgets/base",
          "model_name": "LayoutModel",
          "model_module_version": "1.2.0",
          "state": {
            "_model_module": "@jupyter-widgets/base",
            "_model_module_version": "1.2.0",
            "_model_name": "LayoutModel",
            "_view_count": null,
            "_view_module": "@jupyter-widgets/base",
            "_view_module_version": "1.2.0",
            "_view_name": "LayoutView",
            "align_content": null,
            "align_items": null,
            "align_self": null,
            "border": null,
            "bottom": null,
            "display": null,
            "flex": null,
            "flex_flow": null,
            "grid_area": null,
            "grid_auto_columns": null,
            "grid_auto_flow": null,
            "grid_auto_rows": null,
            "grid_column": null,
            "grid_gap": null,
            "grid_row": null,
            "grid_template_areas": null,
            "grid_template_columns": null,
            "grid_template_rows": null,
            "height": null,
            "justify_content": null,
            "justify_items": null,
            "left": null,
            "margin": null,
            "max_height": null,
            "max_width": null,
            "min_height": null,
            "min_width": null,
            "object_fit": null,
            "object_position": null,
            "order": null,
            "overflow": null,
            "overflow_x": null,
            "overflow_y": null,
            "padding": null,
            "right": null,
            "top": null,
            "visibility": null,
            "width": null
          }
        },
        "d05eb8f34a8444fc8fba1875805e99d3": {
          "model_module": "@jupyter-widgets/controls",
          "model_name": "DescriptionStyleModel",
          "model_module_version": "1.5.0",
          "state": {
            "_model_module": "@jupyter-widgets/controls",
            "_model_module_version": "1.5.0",
            "_model_name": "DescriptionStyleModel",
            "_view_count": null,
            "_view_module": "@jupyter-widgets/base",
            "_view_module_version": "1.2.0",
            "_view_name": "StyleView",
            "description_width": ""
          }
        },
        "0261863ff70244d9859ba4722c26d2fe": {
          "model_module": "@jupyter-widgets/controls",
          "model_name": "HBoxModel",
          "model_module_version": "1.5.0",
          "state": {
            "_dom_classes": [],
            "_model_module": "@jupyter-widgets/controls",
            "_model_module_version": "1.5.0",
            "_model_name": "HBoxModel",
            "_view_count": null,
            "_view_module": "@jupyter-widgets/controls",
            "_view_module_version": "1.5.0",
            "_view_name": "HBoxView",
            "box_style": "",
            "children": [
              "IPY_MODEL_851edb68a1964cc0a56f4ba3cd869646",
              "IPY_MODEL_68448983a4f74a399ddcbff4cc371576",
              "IPY_MODEL_7b478002b00c4d56907850b9e2d5ce69"
            ],
            "layout": "IPY_MODEL_9edcccf8fbd245fba3f206952c283206"
          }
        },
        "851edb68a1964cc0a56f4ba3cd869646": {
          "model_module": "@jupyter-widgets/controls",
          "model_name": "HTMLModel",
          "model_module_version": "1.5.0",
          "state": {
            "_dom_classes": [],
            "_model_module": "@jupyter-widgets/controls",
            "_model_module_version": "1.5.0",
            "_model_name": "HTMLModel",
            "_view_count": null,
            "_view_module": "@jupyter-widgets/controls",
            "_view_module_version": "1.5.0",
            "_view_name": "HTMLView",
            "description": "",
            "description_tooltip": null,
            "layout": "IPY_MODEL_82dd033344ba4a0996f36235b7cfc557",
            "placeholder": "​",
            "style": "IPY_MODEL_a1cf704523404186bcc50c2344355399",
            "value": "100%"
          }
        },
        "68448983a4f74a399ddcbff4cc371576": {
          "model_module": "@jupyter-widgets/controls",
          "model_name": "FloatProgressModel",
          "model_module_version": "1.5.0",
          "state": {
            "_dom_classes": [],
            "_model_module": "@jupyter-widgets/controls",
            "_model_module_version": "1.5.0",
            "_model_name": "FloatProgressModel",
            "_view_count": null,
            "_view_module": "@jupyter-widgets/controls",
            "_view_module_version": "1.5.0",
            "_view_name": "ProgressView",
            "bar_style": "success",
            "description": "",
            "description_tooltip": null,
            "layout": "IPY_MODEL_abcee84fcf90454e94d0742437d9bf78",
            "max": 4422102,
            "min": 0,
            "orientation": "horizontal",
            "style": "IPY_MODEL_90e96709b2db4a49829b2b78188d1f0b",
            "value": 4422102
          }
        },
        "7b478002b00c4d56907850b9e2d5ce69": {
          "model_module": "@jupyter-widgets/controls",
          "model_name": "HTMLModel",
          "model_module_version": "1.5.0",
          "state": {
            "_dom_classes": [],
            "_model_module": "@jupyter-widgets/controls",
            "_model_module_version": "1.5.0",
            "_model_name": "HTMLModel",
            "_view_count": null,
            "_view_module": "@jupyter-widgets/controls",
            "_view_module_version": "1.5.0",
            "_view_name": "HTMLView",
            "description": "",
            "description_tooltip": null,
            "layout": "IPY_MODEL_a7c8db5ed91b4526bc4892b9b34529c6",
            "placeholder": "​",
            "style": "IPY_MODEL_230e717612ea4494badbb49f66f23d97",
            "value": " 4422102/4422102 [00:00&lt;00:00, 54479777.08it/s]"
          }
        },
        "9edcccf8fbd245fba3f206952c283206": {
          "model_module": "@jupyter-widgets/base",
          "model_name": "LayoutModel",
          "model_module_version": "1.2.0",
          "state": {
            "_model_module": "@jupyter-widgets/base",
            "_model_module_version": "1.2.0",
            "_model_name": "LayoutModel",
            "_view_count": null,
            "_view_module": "@jupyter-widgets/base",
            "_view_module_version": "1.2.0",
            "_view_name": "LayoutView",
            "align_content": null,
            "align_items": null,
            "align_self": null,
            "border": null,
            "bottom": null,
            "display": null,
            "flex": null,
            "flex_flow": null,
            "grid_area": null,
            "grid_auto_columns": null,
            "grid_auto_flow": null,
            "grid_auto_rows": null,
            "grid_column": null,
            "grid_gap": null,
            "grid_row": null,
            "grid_template_areas": null,
            "grid_template_columns": null,
            "grid_template_rows": null,
            "height": null,
            "justify_content": null,
            "justify_items": null,
            "left": null,
            "margin": null,
            "max_height": null,
            "max_width": null,
            "min_height": null,
            "min_width": null,
            "object_fit": null,
            "object_position": null,
            "order": null,
            "overflow": null,
            "overflow_x": null,
            "overflow_y": null,
            "padding": null,
            "right": null,
            "top": null,
            "visibility": null,
            "width": null
          }
        },
        "82dd033344ba4a0996f36235b7cfc557": {
          "model_module": "@jupyter-widgets/base",
          "model_name": "LayoutModel",
          "model_module_version": "1.2.0",
          "state": {
            "_model_module": "@jupyter-widgets/base",
            "_model_module_version": "1.2.0",
            "_model_name": "LayoutModel",
            "_view_count": null,
            "_view_module": "@jupyter-widgets/base",
            "_view_module_version": "1.2.0",
            "_view_name": "LayoutView",
            "align_content": null,
            "align_items": null,
            "align_self": null,
            "border": null,
            "bottom": null,
            "display": null,
            "flex": null,
            "flex_flow": null,
            "grid_area": null,
            "grid_auto_columns": null,
            "grid_auto_flow": null,
            "grid_auto_rows": null,
            "grid_column": null,
            "grid_gap": null,
            "grid_row": null,
            "grid_template_areas": null,
            "grid_template_columns": null,
            "grid_template_rows": null,
            "height": null,
            "justify_content": null,
            "justify_items": null,
            "left": null,
            "margin": null,
            "max_height": null,
            "max_width": null,
            "min_height": null,
            "min_width": null,
            "object_fit": null,
            "object_position": null,
            "order": null,
            "overflow": null,
            "overflow_x": null,
            "overflow_y": null,
            "padding": null,
            "right": null,
            "top": null,
            "visibility": null,
            "width": null
          }
        },
        "a1cf704523404186bcc50c2344355399": {
          "model_module": "@jupyter-widgets/controls",
          "model_name": "DescriptionStyleModel",
          "model_module_version": "1.5.0",
          "state": {
            "_model_module": "@jupyter-widgets/controls",
            "_model_module_version": "1.5.0",
            "_model_name": "DescriptionStyleModel",
            "_view_count": null,
            "_view_module": "@jupyter-widgets/base",
            "_view_module_version": "1.2.0",
            "_view_name": "StyleView",
            "description_width": ""
          }
        },
        "abcee84fcf90454e94d0742437d9bf78": {
          "model_module": "@jupyter-widgets/base",
          "model_name": "LayoutModel",
          "model_module_version": "1.2.0",
          "state": {
            "_model_module": "@jupyter-widgets/base",
            "_model_module_version": "1.2.0",
            "_model_name": "LayoutModel",
            "_view_count": null,
            "_view_module": "@jupyter-widgets/base",
            "_view_module_version": "1.2.0",
            "_view_name": "LayoutView",
            "align_content": null,
            "align_items": null,
            "align_self": null,
            "border": null,
            "bottom": null,
            "display": null,
            "flex": null,
            "flex_flow": null,
            "grid_area": null,
            "grid_auto_columns": null,
            "grid_auto_flow": null,
            "grid_auto_rows": null,
            "grid_column": null,
            "grid_gap": null,
            "grid_row": null,
            "grid_template_areas": null,
            "grid_template_columns": null,
            "grid_template_rows": null,
            "height": null,
            "justify_content": null,
            "justify_items": null,
            "left": null,
            "margin": null,
            "max_height": null,
            "max_width": null,
            "min_height": null,
            "min_width": null,
            "object_fit": null,
            "object_position": null,
            "order": null,
            "overflow": null,
            "overflow_x": null,
            "overflow_y": null,
            "padding": null,
            "right": null,
            "top": null,
            "visibility": null,
            "width": null
          }
        },
        "90e96709b2db4a49829b2b78188d1f0b": {
          "model_module": "@jupyter-widgets/controls",
          "model_name": "ProgressStyleModel",
          "model_module_version": "1.5.0",
          "state": {
            "_model_module": "@jupyter-widgets/controls",
            "_model_module_version": "1.5.0",
            "_model_name": "ProgressStyleModel",
            "_view_count": null,
            "_view_module": "@jupyter-widgets/base",
            "_view_module_version": "1.2.0",
            "_view_name": "StyleView",
            "bar_color": null,
            "description_width": ""
          }
        },
        "a7c8db5ed91b4526bc4892b9b34529c6": {
          "model_module": "@jupyter-widgets/base",
          "model_name": "LayoutModel",
          "model_module_version": "1.2.0",
          "state": {
            "_model_module": "@jupyter-widgets/base",
            "_model_module_version": "1.2.0",
            "_model_name": "LayoutModel",
            "_view_count": null,
            "_view_module": "@jupyter-widgets/base",
            "_view_module_version": "1.2.0",
            "_view_name": "LayoutView",
            "align_content": null,
            "align_items": null,
            "align_self": null,
            "border": null,
            "bottom": null,
            "display": null,
            "flex": null,
            "flex_flow": null,
            "grid_area": null,
            "grid_auto_columns": null,
            "grid_auto_flow": null,
            "grid_auto_rows": null,
            "grid_column": null,
            "grid_gap": null,
            "grid_row": null,
            "grid_template_areas": null,
            "grid_template_columns": null,
            "grid_template_rows": null,
            "height": null,
            "justify_content": null,
            "justify_items": null,
            "left": null,
            "margin": null,
            "max_height": null,
            "max_width": null,
            "min_height": null,
            "min_width": null,
            "object_fit": null,
            "object_position": null,
            "order": null,
            "overflow": null,
            "overflow_x": null,
            "overflow_y": null,
            "padding": null,
            "right": null,
            "top": null,
            "visibility": null,
            "width": null
          }
        },
        "230e717612ea4494badbb49f66f23d97": {
          "model_module": "@jupyter-widgets/controls",
          "model_name": "DescriptionStyleModel",
          "model_module_version": "1.5.0",
          "state": {
            "_model_module": "@jupyter-widgets/controls",
            "_model_module_version": "1.5.0",
            "_model_name": "DescriptionStyleModel",
            "_view_count": null,
            "_view_module": "@jupyter-widgets/base",
            "_view_module_version": "1.2.0",
            "_view_name": "StyleView",
            "description_width": ""
          }
        },
        "189e40fec9944ddbb6402cb1356d30ed": {
          "model_module": "@jupyter-widgets/controls",
          "model_name": "HBoxModel",
          "model_module_version": "1.5.0",
          "state": {
            "_dom_classes": [],
            "_model_module": "@jupyter-widgets/controls",
            "_model_module_version": "1.5.0",
            "_model_name": "HBoxModel",
            "_view_count": null,
            "_view_module": "@jupyter-widgets/controls",
            "_view_module_version": "1.5.0",
            "_view_name": "HBoxView",
            "box_style": "",
            "children": [
              "IPY_MODEL_b71ad4bb105c425797d931e4afa504d2",
              "IPY_MODEL_546d61c032454703b32278102d5e48fe",
              "IPY_MODEL_07f9b24dc43744f1ba74ecd9aa823534"
            ],
            "layout": "IPY_MODEL_c9508fe1463d4c0e8d68678682523dd8"
          }
        },
        "b71ad4bb105c425797d931e4afa504d2": {
          "model_module": "@jupyter-widgets/controls",
          "model_name": "HTMLModel",
          "model_module_version": "1.5.0",
          "state": {
            "_dom_classes": [],
            "_model_module": "@jupyter-widgets/controls",
            "_model_module_version": "1.5.0",
            "_model_name": "HTMLModel",
            "_view_count": null,
            "_view_module": "@jupyter-widgets/controls",
            "_view_module_version": "1.5.0",
            "_view_name": "HTMLView",
            "description": "",
            "description_tooltip": null,
            "layout": "IPY_MODEL_2fac5b3d518f472497345ccf57c88694",
            "placeholder": "​",
            "style": "IPY_MODEL_221948d9d3134dae8ebbf9b75f522d5a",
            "value": "100%"
          }
        },
        "546d61c032454703b32278102d5e48fe": {
          "model_module": "@jupyter-widgets/controls",
          "model_name": "FloatProgressModel",
          "model_module_version": "1.5.0",
          "state": {
            "_dom_classes": [],
            "_model_module": "@jupyter-widgets/controls",
            "_model_module_version": "1.5.0",
            "_model_name": "FloatProgressModel",
            "_view_count": null,
            "_view_module": "@jupyter-widgets/controls",
            "_view_module_version": "1.5.0",
            "_view_name": "ProgressView",
            "bar_style": "success",
            "description": "",
            "description_tooltip": null,
            "layout": "IPY_MODEL_01e558b83cb9493ca8d084aaa0f0b7c1",
            "max": 5148,
            "min": 0,
            "orientation": "horizontal",
            "style": "IPY_MODEL_5a88fe7184cf41e09c0305bd61fa154e",
            "value": 5148
          }
        },
        "07f9b24dc43744f1ba74ecd9aa823534": {
          "model_module": "@jupyter-widgets/controls",
          "model_name": "HTMLModel",
          "model_module_version": "1.5.0",
          "state": {
            "_dom_classes": [],
            "_model_module": "@jupyter-widgets/controls",
            "_model_module_version": "1.5.0",
            "_model_name": "HTMLModel",
            "_view_count": null,
            "_view_module": "@jupyter-widgets/controls",
            "_view_module_version": "1.5.0",
            "_view_name": "HTMLView",
            "description": "",
            "description_tooltip": null,
            "layout": "IPY_MODEL_5e21a7a0a26b4faeb590bfe92463205a",
            "placeholder": "​",
            "style": "IPY_MODEL_db0106b069a24d8fa8a716cdbbb49dc1",
            "value": " 5148/5148 [00:00&lt;00:00, 209087.69it/s]"
          }
        },
        "c9508fe1463d4c0e8d68678682523dd8": {
          "model_module": "@jupyter-widgets/base",
          "model_name": "LayoutModel",
          "model_module_version": "1.2.0",
          "state": {
            "_model_module": "@jupyter-widgets/base",
            "_model_module_version": "1.2.0",
            "_model_name": "LayoutModel",
            "_view_count": null,
            "_view_module": "@jupyter-widgets/base",
            "_view_module_version": "1.2.0",
            "_view_name": "LayoutView",
            "align_content": null,
            "align_items": null,
            "align_self": null,
            "border": null,
            "bottom": null,
            "display": null,
            "flex": null,
            "flex_flow": null,
            "grid_area": null,
            "grid_auto_columns": null,
            "grid_auto_flow": null,
            "grid_auto_rows": null,
            "grid_column": null,
            "grid_gap": null,
            "grid_row": null,
            "grid_template_areas": null,
            "grid_template_columns": null,
            "grid_template_rows": null,
            "height": null,
            "justify_content": null,
            "justify_items": null,
            "left": null,
            "margin": null,
            "max_height": null,
            "max_width": null,
            "min_height": null,
            "min_width": null,
            "object_fit": null,
            "object_position": null,
            "order": null,
            "overflow": null,
            "overflow_x": null,
            "overflow_y": null,
            "padding": null,
            "right": null,
            "top": null,
            "visibility": null,
            "width": null
          }
        },
        "2fac5b3d518f472497345ccf57c88694": {
          "model_module": "@jupyter-widgets/base",
          "model_name": "LayoutModel",
          "model_module_version": "1.2.0",
          "state": {
            "_model_module": "@jupyter-widgets/base",
            "_model_module_version": "1.2.0",
            "_model_name": "LayoutModel",
            "_view_count": null,
            "_view_module": "@jupyter-widgets/base",
            "_view_module_version": "1.2.0",
            "_view_name": "LayoutView",
            "align_content": null,
            "align_items": null,
            "align_self": null,
            "border": null,
            "bottom": null,
            "display": null,
            "flex": null,
            "flex_flow": null,
            "grid_area": null,
            "grid_auto_columns": null,
            "grid_auto_flow": null,
            "grid_auto_rows": null,
            "grid_column": null,
            "grid_gap": null,
            "grid_row": null,
            "grid_template_areas": null,
            "grid_template_columns": null,
            "grid_template_rows": null,
            "height": null,
            "justify_content": null,
            "justify_items": null,
            "left": null,
            "margin": null,
            "max_height": null,
            "max_width": null,
            "min_height": null,
            "min_width": null,
            "object_fit": null,
            "object_position": null,
            "order": null,
            "overflow": null,
            "overflow_x": null,
            "overflow_y": null,
            "padding": null,
            "right": null,
            "top": null,
            "visibility": null,
            "width": null
          }
        },
        "221948d9d3134dae8ebbf9b75f522d5a": {
          "model_module": "@jupyter-widgets/controls",
          "model_name": "DescriptionStyleModel",
          "model_module_version": "1.5.0",
          "state": {
            "_model_module": "@jupyter-widgets/controls",
            "_model_module_version": "1.5.0",
            "_model_name": "DescriptionStyleModel",
            "_view_count": null,
            "_view_module": "@jupyter-widgets/base",
            "_view_module_version": "1.2.0",
            "_view_name": "StyleView",
            "description_width": ""
          }
        },
        "01e558b83cb9493ca8d084aaa0f0b7c1": {
          "model_module": "@jupyter-widgets/base",
          "model_name": "LayoutModel",
          "model_module_version": "1.2.0",
          "state": {
            "_model_module": "@jupyter-widgets/base",
            "_model_module_version": "1.2.0",
            "_model_name": "LayoutModel",
            "_view_count": null,
            "_view_module": "@jupyter-widgets/base",
            "_view_module_version": "1.2.0",
            "_view_name": "LayoutView",
            "align_content": null,
            "align_items": null,
            "align_self": null,
            "border": null,
            "bottom": null,
            "display": null,
            "flex": null,
            "flex_flow": null,
            "grid_area": null,
            "grid_auto_columns": null,
            "grid_auto_flow": null,
            "grid_auto_rows": null,
            "grid_column": null,
            "grid_gap": null,
            "grid_row": null,
            "grid_template_areas": null,
            "grid_template_columns": null,
            "grid_template_rows": null,
            "height": null,
            "justify_content": null,
            "justify_items": null,
            "left": null,
            "margin": null,
            "max_height": null,
            "max_width": null,
            "min_height": null,
            "min_width": null,
            "object_fit": null,
            "object_position": null,
            "order": null,
            "overflow": null,
            "overflow_x": null,
            "overflow_y": null,
            "padding": null,
            "right": null,
            "top": null,
            "visibility": null,
            "width": null
          }
        },
        "5a88fe7184cf41e09c0305bd61fa154e": {
          "model_module": "@jupyter-widgets/controls",
          "model_name": "ProgressStyleModel",
          "model_module_version": "1.5.0",
          "state": {
            "_model_module": "@jupyter-widgets/controls",
            "_model_module_version": "1.5.0",
            "_model_name": "ProgressStyleModel",
            "_view_count": null,
            "_view_module": "@jupyter-widgets/base",
            "_view_module_version": "1.2.0",
            "_view_name": "StyleView",
            "bar_color": null,
            "description_width": ""
          }
        },
        "5e21a7a0a26b4faeb590bfe92463205a": {
          "model_module": "@jupyter-widgets/base",
          "model_name": "LayoutModel",
          "model_module_version": "1.2.0",
          "state": {
            "_model_module": "@jupyter-widgets/base",
            "_model_module_version": "1.2.0",
            "_model_name": "LayoutModel",
            "_view_count": null,
            "_view_module": "@jupyter-widgets/base",
            "_view_module_version": "1.2.0",
            "_view_name": "LayoutView",
            "align_content": null,
            "align_items": null,
            "align_self": null,
            "border": null,
            "bottom": null,
            "display": null,
            "flex": null,
            "flex_flow": null,
            "grid_area": null,
            "grid_auto_columns": null,
            "grid_auto_flow": null,
            "grid_auto_rows": null,
            "grid_column": null,
            "grid_gap": null,
            "grid_row": null,
            "grid_template_areas": null,
            "grid_template_columns": null,
            "grid_template_rows": null,
            "height": null,
            "justify_content": null,
            "justify_items": null,
            "left": null,
            "margin": null,
            "max_height": null,
            "max_width": null,
            "min_height": null,
            "min_width": null,
            "object_fit": null,
            "object_position": null,
            "order": null,
            "overflow": null,
            "overflow_x": null,
            "overflow_y": null,
            "padding": null,
            "right": null,
            "top": null,
            "visibility": null,
            "width": null
          }
        },
        "db0106b069a24d8fa8a716cdbbb49dc1": {
          "model_module": "@jupyter-widgets/controls",
          "model_name": "DescriptionStyleModel",
          "model_module_version": "1.5.0",
          "state": {
            "_model_module": "@jupyter-widgets/controls",
            "_model_module_version": "1.5.0",
            "_model_name": "DescriptionStyleModel",
            "_view_count": null,
            "_view_module": "@jupyter-widgets/base",
            "_view_module_version": "1.2.0",
            "_view_name": "StyleView",
            "description_width": ""
          }
        }
      }
    }
  },
  "nbformat": 4,
  "nbformat_minor": 0
}